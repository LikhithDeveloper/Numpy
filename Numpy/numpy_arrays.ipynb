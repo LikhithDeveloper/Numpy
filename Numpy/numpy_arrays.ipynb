{
 "cells": [
  {
   "cell_type": "code",
   "execution_count": null,
   "metadata": {},
   "outputs": [
    {
     "name": "stdout",
     "output_type": "stream",
     "text": [
      "[1 2 3 4 5]\n",
      "<class 'numpy.ndarray'>\n",
      "1.26.4\n",
      "0\n",
      "[ 1  2  3  4  5  7 24]\n",
      "1\n",
      "[[1 2 3 4]\n",
      " [5 6 7 8]]\n",
      "2\n",
      "[[[1 2 3]]\n",
      "\n",
      " [[4 5 6]]\n",
      "\n",
      " [[7 8 9]]]\n",
      "3\n",
      "------\n",
      "3\n",
      "[[[[[1 2 3 4 5]]]]]\n",
      "5\n",
      "[[[[[[[[[[[[[[[[[[[[1 2 3]]\n",
      "\n",
      "                  [[4 5 6]]\n",
      "\n",
      "                  [[7 8 9]]]]]]]]]]]]]]]]]]]]\n",
      "20\n"
     ]
    }
   ],
   "source": [
    "import numpy as np\n",
    "arr = np.array([1,2,3,4,5]);\n",
    "print(arr)\n",
    "print(type(arr))\n",
    "print(np.__version__)\n",
    "\n",
    "# Dimensions of array\n",
    "\n",
    "#0-D array\n",
    "arr1 = np.array(7);\n",
    "print(arr1.ndim)\n",
    "\n",
    "#1-D array\n",
    "arr2 = np.array([1,2,3,4,5,7,24]);\n",
    "print(arr2)\n",
    "print(arr2.ndim)\n",
    "\n",
    "#2-D array\n",
    "arr3 = np.array([[1,2,3,4],[5,6,7,8]])\n",
    "print(arr3)\n",
    "print(arr3.ndim)\n",
    "\n",
    "#3-D array\n",
    "arr4 = np.array([[[1,2,3]],[[4,5,6]],[[7,8,9]]])\n",
    "print(arr4)\n",
    "print(arr4.ndim)\n",
    "# print(\"------\")\n",
    "# print(arr4[0][0][2])\n",
    "\n",
    "#n-dimensions\n",
    "arr5 = np.array([1,2,3,4,5], ndmin=5)\n",
    "print(arr5)\n",
    "print(arr5.ndim)\n",
    "\n",
    "arr6 = np.array([[[1,2,3]],[[4,5,6]],[[7,8,9]]],ndmin=20)\n",
    "print(arr6)\n",
    "print(arr6.ndim)"
   ]
  },
  {
   "cell_type": "code",
   "execution_count": null,
   "metadata": {},
   "outputs": [],
   "source": []
  }
 ],
 "metadata": {
  "kernelspec": {
   "display_name": "Python 3",
   "language": "python",
   "name": "python3"
  },
  "language_info": {
   "codemirror_mode": {
    "name": "ipython",
    "version": 3
   },
   "file_extension": ".py",
   "mimetype": "text/x-python",
   "name": "python",
   "nbconvert_exporter": "python",
   "pygments_lexer": "ipython3",
   "version": "3.12.6"
  }
 },
 "nbformat": 4,
 "nbformat_minor": 2
}
